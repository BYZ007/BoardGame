{
 "cells": [
  {
   "cell_type": "code",
   "execution_count": 1,
   "id": "5423cb71-7d73-4ba3-a43d-cd03605ca713",
   "metadata": {},
   "outputs": [],
   "source": [
    "from Mansion import Mansion\n",
    "from constants import *"
   ]
  },
  {
   "cell_type": "code",
   "execution_count": 2,
   "metadata": {},
   "outputs": [
    {
     "output_type": "stream",
     "name": "stderr",
     "text": [
      "INFO:root:BedRoom drawn as the next room\n"
     ]
    }
   ],
   "source": [
    "mansion = Mansion()\n",
    "mansion.setup_game()"
   ]
  },
  {
   "cell_type": "code",
   "execution_count": 3,
   "metadata": {},
   "outputs": [
    {
     "output_type": "execute_result",
     "data": {
      "text/plain": [
       "None"
      ]
     },
     "metadata": {},
     "execution_count": 3
    }
   ],
   "source": [
    "mansion.rooms[RoomName.GameRoom].pos"
   ]
  },
  {
   "cell_type": "code",
   "execution_count": 9,
   "metadata": {},
   "outputs": [
    {
     "output_type": "execute_result",
     "data": {
      "text/plain": [
       "      Position         Room    Room Type Stable Occupied  \\\n",
       "Index                                                      \n",
       "4         None     GameRoom  QuantumPair  False    False   \n",
       "0       (0, 1)     BallRoom  QuantumPair  False    False   \n",
       "1         None  DinningRoom         Flip  False    False   \n",
       "5         None   LivingRoom       Normal  False    False   \n",
       "2       (0, 0)      BedRoom       Normal   True     True   \n",
       "3       (1, 1)     BathRoom       Normal   True     True   \n",
       "\n",
       "                      Characters  \n",
       "Index                             \n",
       "4                             []  \n",
       "0                             []  \n",
       "1                             []  \n",
       "5                             []  \n",
       "2      [Jessie, Huxley, Cirilla]  \n",
       "3                       [Bohiem]  "
      ],
      "text/html": "<div>\n<style scoped>\n    .dataframe tbody tr th:only-of-type {\n        vertical-align: middle;\n    }\n\n    .dataframe tbody tr th {\n        vertical-align: top;\n    }\n\n    .dataframe thead th {\n        text-align: right;\n    }\n</style>\n<table border=\"1\" class=\"dataframe\">\n  <thead>\n    <tr style=\"text-align: right;\">\n      <th></th>\n      <th>Position</th>\n      <th>Room</th>\n      <th>Room Type</th>\n      <th>Stable</th>\n      <th>Occupied</th>\n      <th>Characters</th>\n    </tr>\n    <tr>\n      <th>Index</th>\n      <th></th>\n      <th></th>\n      <th></th>\n      <th></th>\n      <th></th>\n      <th></th>\n    </tr>\n  </thead>\n  <tbody>\n    <tr>\n      <th>4</th>\n      <td>None</td>\n      <td>GameRoom</td>\n      <td>QuantumPair</td>\n      <td>False</td>\n      <td>False</td>\n      <td>[]</td>\n    </tr>\n    <tr>\n      <th>0</th>\n      <td>(0, 1)</td>\n      <td>BallRoom</td>\n      <td>QuantumPair</td>\n      <td>False</td>\n      <td>False</td>\n      <td>[]</td>\n    </tr>\n    <tr>\n      <th>1</th>\n      <td>None</td>\n      <td>DinningRoom</td>\n      <td>Flip</td>\n      <td>False</td>\n      <td>False</td>\n      <td>[]</td>\n    </tr>\n    <tr>\n      <th>5</th>\n      <td>None</td>\n      <td>LivingRoom</td>\n      <td>Normal</td>\n      <td>False</td>\n      <td>False</td>\n      <td>[]</td>\n    </tr>\n    <tr>\n      <th>2</th>\n      <td>(0, 0)</td>\n      <td>BedRoom</td>\n      <td>Normal</td>\n      <td>True</td>\n      <td>True</td>\n      <td>[Jessie, Huxley, Cirilla]</td>\n    </tr>\n    <tr>\n      <th>3</th>\n      <td>(1, 1)</td>\n      <td>BathRoom</td>\n      <td>Normal</td>\n      <td>True</td>\n      <td>True</td>\n      <td>[Bohiem]</td>\n    </tr>\n  </tbody>\n</table>\n</div>"
     },
     "metadata": {},
     "execution_count": 9
    }
   ],
   "source": [
    "mansion.layout"
   ]
  },
  {
   "cell_type": "code",
   "execution_count": 8,
   "metadata": {},
   "outputs": [
    {
     "output_type": "stream",
     "name": "stderr",
     "text": [
      "INFO:root:BathRoom drawn as the next room\n",
      "INFO:root:Bohiem exiting from BallRoom and entering BathRoom\n"
     ]
    }
   ],
   "source": [
    "import pandas as pd\n",
    "player = mansion.characters[CharacterName.Bohiem]\n",
    "player.move(Direction.Down.value)"
   ]
  },
  {
   "cell_type": "code",
   "execution_count": 5,
   "metadata": {},
   "outputs": [
    {
     "output_type": "execute_result",
     "data": {
      "text/plain": [
       "Series([], Name: Room, dtype: object)"
      ]
     },
     "metadata": {},
     "execution_count": 5
    }
   ],
   "source": [
    "mansion.layout.loc[mansion.layout.Position ==(player.pos+Direction.Right.value), 'Room']"
   ]
  },
  {
   "cell_type": "code",
   "execution_count": 7,
   "metadata": {},
   "outputs": [
    {
     "output_type": "execute_result",
     "data": {
      "text/plain": [
       "Index\n",
       "4      None\n",
       "0    (0, 1)\n",
       "1      None\n",
       "5      None\n",
       "2    (0, 0)\n",
       "3      None\n",
       "Name: Position, dtype: object"
      ]
     },
     "metadata": {},
     "execution_count": 7
    }
   ],
   "source": [
    "mansion.layout.Position"
   ]
  },
  {
   "cell_type": "code",
   "execution_count": null,
   "metadata": {},
   "outputs": [],
   "source": []
  }
 ],
 "metadata": {
  "kernelspec": {
   "name": "python3710jvsc74a57bd0c24cb6d4ffcdaef9afee638e35ae2461e735ae6a25943d0a2fb309d9bf059aaa",
   "display_name": "Python 3.7.10 64-bit ('General': conda)"
  },
  "language_info": {
   "name": "",
   "version": "3.7.10"
  }
 },
 "nbformat": 4,
 "nbformat_minor": 5
}