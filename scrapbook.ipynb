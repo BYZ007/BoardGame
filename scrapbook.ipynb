{
 "cells": [
  {
   "cell_type": "code",
   "execution_count": null,
   "id": "5423cb71-7d73-4ba3-a43d-cd03605ca713",
   "metadata": {},
   "outputs": [],
   "source": []
  },
  {
   "cell_type": "code",
   "execution_count": null,
   "metadata": {},
   "outputs": [],
   "source": []
  },
  {
   "cell_type": "code",
   "execution_count": null,
   "metadata": {},
   "outputs": [],
   "source": []
  }
 ],
 "metadata": {
  "kernelspec": {
   "name": "python3710jvsc74a57bd0c24cb6d4ffcdaef9afee638e35ae2461e735ae6a25943d0a2fb309d9bf059aaa",
   "display_name": "Python 3.7.10 64-bit ('General': conda)"
  },
  "language_info": {
   "name": "",
   "version": "3.7.10"
  }
 },
 "nbformat": 4,
 "nbformat_minor": 5
}