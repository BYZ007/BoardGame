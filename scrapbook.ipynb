{
 "cells": [
  {
   "cell_type": "code",
   "execution_count": 1,
   "id": "5423cb71-7d73-4ba3-a43d-cd03605ca713",
   "metadata": {},
   "outputs": [],
   "source": [
    "from Mansion import Mansion\n",
    "from constants import *"
   ]
  },
  {
   "cell_type": "code",
   "execution_count": 2,
   "metadata": {},
   "outputs": [],
   "source": [
    "mansion = Mansion()"
   ]
  },
  {
   "cell_type": "code",
   "execution_count": 4,
   "metadata": {},
   "outputs": [
    {
     "output_type": "stream",
     "name": "stderr",
     "text": [
      "INFO:root:LivingRoom drawn as the next room\n",
      "INFO:root:Updating room LivingRoom\n"
     ]
    }
   ],
   "source": [
    "mansion.setup_game()"
   ]
  },
  {
   "cell_type": "code",
   "execution_count": 5,
   "metadata": {},
   "outputs": [
    {
     "output_type": "execute_result",
     "data": {
      "text/plain": [
       "{<RoomName.LivingRoom: 5>: <QuantumRoom.QuantumRoom at 0x1aef503a048>,\n",
       " <RoomName.DinningRoom: 1>: <QuantumRoom.QuantumRoom at 0x1aef503a648>,\n",
       " <RoomName.BallRoom: 0>: <FlipRoom.FlipRoom at 0x1aef503a0c8>,\n",
       " <RoomName.BedRoom: 2>: <NormalRoom.NormalRoom at 0x1aef503a988>,\n",
       " <RoomName.BathRoom: 3>: <NormalRoom.NormalRoom at 0x1aef415fc88>,\n",
       " <RoomName.GameRoom: 4>: <NormalRoom.NormalRoom at 0x1aef502b648>}"
      ]
     },
     "metadata": {},
     "execution_count": 5
    }
   ],
   "source": [
    "mansion.rooms"
   ]
  },
  {
   "cell_type": "code",
   "execution_count": 7,
   "metadata": {},
   "outputs": [
    {
     "output_type": "execute_result",
     "data": {
      "text/plain": [
       "                        Room Type  Stable  Occupied  \\\n",
       "Room Name                                             \n",
       "RoomName.LivingRoom   QuantumPair    True      True   \n",
       "RoomName.DinningRoom  QuantumPair   False     False   \n",
       "RoomName.BallRoom            Flip   False     False   \n",
       "RoomName.BedRoom           Normal   False     False   \n",
       "RoomName.BathRoom          Normal   False     False   \n",
       "RoomName.GameRoom          Normal   False     False   \n",
       "\n",
       "                                                             Characters  \\\n",
       "Room Name                                                                 \n",
       "RoomName.LivingRoom   [CharacterName.Bohiem, CharacterName.Jessie, C...   \n",
       "RoomName.DinningRoom                                                 []   \n",
       "RoomName.BallRoom                                                    []   \n",
       "RoomName.BedRoom                                                     []   \n",
       "RoomName.BathRoom                                                    []   \n",
       "RoomName.GameRoom                                                    []   \n",
       "\n",
       "                                                            Connections  \n",
       "Room Name                                                                \n",
       "RoomName.LivingRoom   {(0, 1): None, (1, 0): None, (0, -1): None, (-...  \n",
       "RoomName.DinningRoom  {(0, 1): None, (1, 0): None, (0, -1): None, (-...  \n",
       "RoomName.BallRoom     {(0, 1): None, (1, 0): None, (0, -1): None, (-...  \n",
       "RoomName.BedRoom      {(0, 1): None, (1, 0): None, (0, -1): None, (-...  \n",
       "RoomName.BathRoom     {(0, 1): None, (1, 0): None, (0, -1): None, (-...  \n",
       "RoomName.GameRoom     {(0, 1): None, (1, 0): None, (0, -1): None, (-...  "
      ],
      "text/html": "<div>\n<style scoped>\n    .dataframe tbody tr th:only-of-type {\n        vertical-align: middle;\n    }\n\n    .dataframe tbody tr th {\n        vertical-align: top;\n    }\n\n    .dataframe thead th {\n        text-align: right;\n    }\n</style>\n<table border=\"1\" class=\"dataframe\">\n  <thead>\n    <tr style=\"text-align: right;\">\n      <th></th>\n      <th>Room Type</th>\n      <th>Stable</th>\n      <th>Occupied</th>\n      <th>Characters</th>\n      <th>Connections</th>\n    </tr>\n    <tr>\n      <th>Room Name</th>\n      <th></th>\n      <th></th>\n      <th></th>\n      <th></th>\n      <th></th>\n    </tr>\n  </thead>\n  <tbody>\n    <tr>\n      <th>RoomName.LivingRoom</th>\n      <td>QuantumPair</td>\n      <td>True</td>\n      <td>True</td>\n      <td>[CharacterName.Bohiem, CharacterName.Jessie, C...</td>\n      <td>{(0, 1): None, (1, 0): None, (0, -1): None, (-...</td>\n    </tr>\n    <tr>\n      <th>RoomName.DinningRoom</th>\n      <td>QuantumPair</td>\n      <td>False</td>\n      <td>False</td>\n      <td>[]</td>\n      <td>{(0, 1): None, (1, 0): None, (0, -1): None, (-...</td>\n    </tr>\n    <tr>\n      <th>RoomName.BallRoom</th>\n      <td>Flip</td>\n      <td>False</td>\n      <td>False</td>\n      <td>[]</td>\n      <td>{(0, 1): None, (1, 0): None, (0, -1): None, (-...</td>\n    </tr>\n    <tr>\n      <th>RoomName.BedRoom</th>\n      <td>Normal</td>\n      <td>False</td>\n      <td>False</td>\n      <td>[]</td>\n      <td>{(0, 1): None, (1, 0): None, (0, -1): None, (-...</td>\n    </tr>\n    <tr>\n      <th>RoomName.BathRoom</th>\n      <td>Normal</td>\n      <td>False</td>\n      <td>False</td>\n      <td>[]</td>\n      <td>{(0, 1): None, (1, 0): None, (0, -1): None, (-...</td>\n    </tr>\n    <tr>\n      <th>RoomName.GameRoom</th>\n      <td>Normal</td>\n      <td>False</td>\n      <td>False</td>\n      <td>[]</td>\n      <td>{(0, 1): None, (1, 0): None, (0, -1): None, (-...</td>\n    </tr>\n  </tbody>\n</table>\n</div>"
     },
     "metadata": {},
     "execution_count": 7
    }
   ],
   "source": [
    "mansion.layout"
   ]
  },
  {
   "cell_type": "code",
   "execution_count": null,
   "metadata": {},
   "outputs": [],
   "source": []
  }
 ],
 "metadata": {
  "kernelspec": {
   "name": "python3710jvsc74a57bd0c24cb6d4ffcdaef9afee638e35ae2461e735ae6a25943d0a2fb309d9bf059aaa",
   "display_name": "Python 3.7.10 64-bit ('General': conda)"
  },
  "language_info": {
   "name": "",
   "version": "3.7.10"
  }
 },
 "nbformat": 4,
 "nbformat_minor": 5
}